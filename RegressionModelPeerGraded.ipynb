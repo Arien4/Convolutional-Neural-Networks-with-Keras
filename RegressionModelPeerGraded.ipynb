{
 "cells": [
  {
   "cell_type": "markdown",
   "id": "f17e783c-23b6-42b1-9480-e8eaf732b20a",
   "metadata": {},
   "source": [
    "### Preparatory steps"
   ]
  },
  {
   "cell_type": "code",
   "execution_count": 1,
   "id": "b69e7631-6ad3-4f32-8259-38dca2d1f97c",
   "metadata": {},
   "outputs": [
    {
     "name": "stdout",
     "output_type": "stream",
     "text": [
      "Requirement already satisfied: pandas==2.2.2 in /opt/conda/lib/python3.11/site-packages (2.2.2)\n",
      "Requirement already satisfied: numpy>=1.23.2 in /opt/conda/lib/python3.11/site-packages (from pandas==2.2.2) (2.0.2)\n",
      "Requirement already satisfied: python-dateutil>=2.8.2 in /opt/conda/lib/python3.11/site-packages (from pandas==2.2.2) (2.9.0)\n",
      "Requirement already satisfied: pytz>=2020.1 in /opt/conda/lib/python3.11/site-packages (from pandas==2.2.2) (2024.1)\n",
      "Requirement already satisfied: tzdata>=2022.7 in /opt/conda/lib/python3.11/site-packages (from pandas==2.2.2) (2024.2)\n",
      "Requirement already satisfied: six>=1.5 in /opt/conda/lib/python3.11/site-packages (from python-dateutil>=2.8.2->pandas==2.2.2) (1.16.0)\n",
      "Requirement already satisfied: tensorflow_cpu==2.18.0 in /opt/conda/lib/python3.11/site-packages (2.18.0)\n",
      "Requirement already satisfied: absl-py>=1.0.0 in /opt/conda/lib/python3.11/site-packages (from tensorflow_cpu==2.18.0) (2.1.0)\n",
      "Requirement already satisfied: astunparse>=1.6.0 in /opt/conda/lib/python3.11/site-packages (from tensorflow_cpu==2.18.0) (1.6.3)\n",
      "Requirement already satisfied: flatbuffers>=24.3.25 in /opt/conda/lib/python3.11/site-packages (from tensorflow_cpu==2.18.0) (24.3.25)\n",
      "Requirement already satisfied: gast!=0.5.0,!=0.5.1,!=0.5.2,>=0.2.1 in /opt/conda/lib/python3.11/site-packages (from tensorflow_cpu==2.18.0) (0.6.0)\n",
      "Requirement already satisfied: google-pasta>=0.1.1 in /opt/conda/lib/python3.11/site-packages (from tensorflow_cpu==2.18.0) (0.2.0)\n",
      "Requirement already satisfied: libclang>=13.0.0 in /opt/conda/lib/python3.11/site-packages (from tensorflow_cpu==2.18.0) (18.1.1)\n",
      "Requirement already satisfied: opt-einsum>=2.3.2 in /opt/conda/lib/python3.11/site-packages (from tensorflow_cpu==2.18.0) (3.4.0)\n",
      "Requirement already satisfied: packaging in /opt/conda/lib/python3.11/site-packages (from tensorflow_cpu==2.18.0) (24.0)\n",
      "Requirement already satisfied: protobuf!=4.21.0,!=4.21.1,!=4.21.2,!=4.21.3,!=4.21.4,!=4.21.5,<6.0.0dev,>=3.20.3 in /opt/conda/lib/python3.11/site-packages (from tensorflow_cpu==2.18.0) (5.29.2)\n",
      "Requirement already satisfied: requests<3,>=2.21.0 in /opt/conda/lib/python3.11/site-packages (from tensorflow_cpu==2.18.0) (2.31.0)\n",
      "Requirement already satisfied: setuptools in /opt/conda/lib/python3.11/site-packages (from tensorflow_cpu==2.18.0) (69.5.1)\n",
      "Requirement already satisfied: six>=1.12.0 in /opt/conda/lib/python3.11/site-packages (from tensorflow_cpu==2.18.0) (1.16.0)\n",
      "Requirement already satisfied: termcolor>=1.1.0 in /opt/conda/lib/python3.11/site-packages (from tensorflow_cpu==2.18.0) (2.5.0)\n",
      "Requirement already satisfied: typing-extensions>=3.6.6 in /opt/conda/lib/python3.11/site-packages (from tensorflow_cpu==2.18.0) (4.12.2)\n",
      "Requirement already satisfied: wrapt>=1.11.0 in /opt/conda/lib/python3.11/site-packages (from tensorflow_cpu==2.18.0) (1.17.0)\n",
      "Requirement already satisfied: grpcio<2.0,>=1.24.3 in /opt/conda/lib/python3.11/site-packages (from tensorflow_cpu==2.18.0) (1.68.1)\n",
      "Requirement already satisfied: tensorboard<2.19,>=2.18 in /opt/conda/lib/python3.11/site-packages (from tensorflow_cpu==2.18.0) (2.18.0)\n",
      "Requirement already satisfied: keras>=3.5.0 in /opt/conda/lib/python3.11/site-packages (from tensorflow_cpu==2.18.0) (3.7.0)\n",
      "Requirement already satisfied: numpy<2.1.0,>=1.26.0 in /opt/conda/lib/python3.11/site-packages (from tensorflow_cpu==2.18.0) (2.0.2)\n",
      "Requirement already satisfied: h5py>=3.11.0 in /opt/conda/lib/python3.11/site-packages (from tensorflow_cpu==2.18.0) (3.12.1)\n",
      "Requirement already satisfied: ml-dtypes<0.5.0,>=0.4.0 in /opt/conda/lib/python3.11/site-packages (from tensorflow_cpu==2.18.0) (0.4.1)\n",
      "Requirement already satisfied: tensorflow-io-gcs-filesystem>=0.23.1 in /opt/conda/lib/python3.11/site-packages (from tensorflow_cpu==2.18.0) (0.37.1)\n",
      "Requirement already satisfied: wheel<1.0,>=0.23.0 in /opt/conda/lib/python3.11/site-packages (from astunparse>=1.6.0->tensorflow_cpu==2.18.0) (0.43.0)\n",
      "Requirement already satisfied: rich in /opt/conda/lib/python3.11/site-packages (from keras>=3.5.0->tensorflow_cpu==2.18.0) (13.9.4)\n",
      "Requirement already satisfied: namex in /opt/conda/lib/python3.11/site-packages (from keras>=3.5.0->tensorflow_cpu==2.18.0) (0.0.8)\n",
      "Requirement already satisfied: optree in /opt/conda/lib/python3.11/site-packages (from keras>=3.5.0->tensorflow_cpu==2.18.0) (0.13.1)\n",
      "Requirement already satisfied: charset-normalizer<4,>=2 in /opt/conda/lib/python3.11/site-packages (from requests<3,>=2.21.0->tensorflow_cpu==2.18.0) (3.3.2)\n",
      "Requirement already satisfied: idna<4,>=2.5 in /opt/conda/lib/python3.11/site-packages (from requests<3,>=2.21.0->tensorflow_cpu==2.18.0) (3.7)\n",
      "Requirement already satisfied: urllib3<3,>=1.21.1 in /opt/conda/lib/python3.11/site-packages (from requests<3,>=2.21.0->tensorflow_cpu==2.18.0) (2.2.1)\n",
      "Requirement already satisfied: certifi>=2017.4.17 in /opt/conda/lib/python3.11/site-packages (from requests<3,>=2.21.0->tensorflow_cpu==2.18.0) (2024.8.30)\n",
      "Requirement already satisfied: markdown>=2.6.8 in /opt/conda/lib/python3.11/site-packages (from tensorboard<2.19,>=2.18->tensorflow_cpu==2.18.0) (3.7)\n",
      "Requirement already satisfied: tensorboard-data-server<0.8.0,>=0.7.0 in /opt/conda/lib/python3.11/site-packages (from tensorboard<2.19,>=2.18->tensorflow_cpu==2.18.0) (0.7.2)\n",
      "Requirement already satisfied: werkzeug>=1.0.1 in /opt/conda/lib/python3.11/site-packages (from tensorboard<2.19,>=2.18->tensorflow_cpu==2.18.0) (3.1.3)\n",
      "Requirement already satisfied: MarkupSafe>=2.1.1 in /opt/conda/lib/python3.11/site-packages (from werkzeug>=1.0.1->tensorboard<2.19,>=2.18->tensorflow_cpu==2.18.0) (2.1.5)\n",
      "Requirement already satisfied: markdown-it-py>=2.2.0 in /opt/conda/lib/python3.11/site-packages (from rich->keras>=3.5.0->tensorflow_cpu==2.18.0) (3.0.0)\n",
      "Requirement already satisfied: pygments<3.0.0,>=2.13.0 in /opt/conda/lib/python3.11/site-packages (from rich->keras>=3.5.0->tensorflow_cpu==2.18.0) (2.18.0)\n",
      "Requirement already satisfied: mdurl~=0.1 in /opt/conda/lib/python3.11/site-packages (from markdown-it-py>=2.2.0->rich->keras>=3.5.0->tensorflow_cpu==2.18.0) (0.1.2)\n"
     ]
    }
   ],
   "source": [
    "!pip install pandas==2.2.2\n",
    "!pip install tensorflow_cpu==2.18.0"
   ]
  },
  {
   "cell_type": "code",
   "execution_count": 2,
   "id": "2354bc87-24ab-465f-adde-ccb269bc22df",
   "metadata": {},
   "outputs": [
    {
     "name": "stderr",
     "output_type": "stream",
     "text": [
      "2024-12-21 12:58:31.388322: I tensorflow/core/util/port.cc:153] oneDNN custom operations are on. You may see slightly different numerical results due to floating-point round-off errors from different computation orders. To turn them off, set the environment variable `TF_ENABLE_ONEDNN_OPTS=0`.\n",
      "2024-12-21 12:58:31.441308: I tensorflow/core/platform/cpu_feature_guard.cc:210] This TensorFlow binary is optimized to use available CPU instructions in performance-critical operations.\n",
      "To enable the following instructions: AVX2 AVX512F AVX512_VNNI FMA, in other operations, rebuild TensorFlow with the appropriate compiler flags.\n"
     ]
    }
   ],
   "source": [
    "import pandas as pd\n",
    "import numpy as np\n",
    "import keras\n",
    "\n",
    "import warnings\n",
    "warnings.simplefilter('ignore', FutureWarning)"
   ]
  },
  {
   "cell_type": "code",
   "execution_count": 3,
   "id": "c4cdfda8-d24d-4239-80d2-f9d10a2f97fb",
   "metadata": {},
   "outputs": [],
   "source": [
    "# importing Keras packages\n",
    "from keras.models import Sequential\n",
    "from keras.layers import Dense\n",
    "from keras.layers import Input"
   ]
  },
  {
   "cell_type": "code",
   "execution_count": 4,
   "id": "3f418b16-82f9-4a33-be57-61160f22e354",
   "metadata": {},
   "outputs": [
    {
     "name": "stdout",
     "output_type": "stream",
     "text": [
      "Requirement already satisfied: scikit-learn in /opt/conda/lib/python3.11/site-packages (1.6.0)\n",
      "Requirement already satisfied: numpy>=1.19.5 in /opt/conda/lib/python3.11/site-packages (from scikit-learn) (2.0.2)\n",
      "Requirement already satisfied: scipy>=1.6.0 in /opt/conda/lib/python3.11/site-packages (from scikit-learn) (1.14.1)\n",
      "Requirement already satisfied: joblib>=1.2.0 in /opt/conda/lib/python3.11/site-packages (from scikit-learn) (1.4.2)\n",
      "Requirement already satisfied: threadpoolctl>=3.1.0 in /opt/conda/lib/python3.11/site-packages (from scikit-learn) (3.5.0)\n"
     ]
    }
   ],
   "source": [
    "!pip install scikit-learn"
   ]
  },
  {
   "cell_type": "code",
   "execution_count": 5,
   "id": "1782fb11-5db4-4a9a-8f17-6c67e3173894",
   "metadata": {},
   "outputs": [],
   "source": [
    "from sklearn.model_selection import train_test_split"
   ]
  },
  {
   "cell_type": "code",
   "execution_count": 6,
   "id": "e9b04a47-31f1-4738-adc2-0ba27e1f01f5",
   "metadata": {},
   "outputs": [
    {
     "data": {
      "text/html": [
       "<div>\n",
       "<style scoped>\n",
       "    .dataframe tbody tr th:only-of-type {\n",
       "        vertical-align: middle;\n",
       "    }\n",
       "\n",
       "    .dataframe tbody tr th {\n",
       "        vertical-align: top;\n",
       "    }\n",
       "\n",
       "    .dataframe thead th {\n",
       "        text-align: right;\n",
       "    }\n",
       "</style>\n",
       "<table border=\"1\" class=\"dataframe\">\n",
       "  <thead>\n",
       "    <tr style=\"text-align: right;\">\n",
       "      <th></th>\n",
       "      <th>Cement</th>\n",
       "      <th>Blast Furnace Slag</th>\n",
       "      <th>Fly Ash</th>\n",
       "      <th>Water</th>\n",
       "      <th>Superplasticizer</th>\n",
       "      <th>Coarse Aggregate</th>\n",
       "      <th>Fine Aggregate</th>\n",
       "      <th>Age</th>\n",
       "      <th>Strength</th>\n",
       "    </tr>\n",
       "  </thead>\n",
       "  <tbody>\n",
       "    <tr>\n",
       "      <th>0</th>\n",
       "      <td>540.0</td>\n",
       "      <td>0.0</td>\n",
       "      <td>0.0</td>\n",
       "      <td>162.0</td>\n",
       "      <td>2.5</td>\n",
       "      <td>1040.0</td>\n",
       "      <td>676.0</td>\n",
       "      <td>28</td>\n",
       "      <td>79.99</td>\n",
       "    </tr>\n",
       "    <tr>\n",
       "      <th>1</th>\n",
       "      <td>540.0</td>\n",
       "      <td>0.0</td>\n",
       "      <td>0.0</td>\n",
       "      <td>162.0</td>\n",
       "      <td>2.5</td>\n",
       "      <td>1055.0</td>\n",
       "      <td>676.0</td>\n",
       "      <td>28</td>\n",
       "      <td>61.89</td>\n",
       "    </tr>\n",
       "    <tr>\n",
       "      <th>2</th>\n",
       "      <td>332.5</td>\n",
       "      <td>142.5</td>\n",
       "      <td>0.0</td>\n",
       "      <td>228.0</td>\n",
       "      <td>0.0</td>\n",
       "      <td>932.0</td>\n",
       "      <td>594.0</td>\n",
       "      <td>270</td>\n",
       "      <td>40.27</td>\n",
       "    </tr>\n",
       "    <tr>\n",
       "      <th>3</th>\n",
       "      <td>332.5</td>\n",
       "      <td>142.5</td>\n",
       "      <td>0.0</td>\n",
       "      <td>228.0</td>\n",
       "      <td>0.0</td>\n",
       "      <td>932.0</td>\n",
       "      <td>594.0</td>\n",
       "      <td>365</td>\n",
       "      <td>41.05</td>\n",
       "    </tr>\n",
       "    <tr>\n",
       "      <th>4</th>\n",
       "      <td>198.6</td>\n",
       "      <td>132.4</td>\n",
       "      <td>0.0</td>\n",
       "      <td>192.0</td>\n",
       "      <td>0.0</td>\n",
       "      <td>978.4</td>\n",
       "      <td>825.5</td>\n",
       "      <td>360</td>\n",
       "      <td>44.30</td>\n",
       "    </tr>\n",
       "  </tbody>\n",
       "</table>\n",
       "</div>"
      ],
      "text/plain": [
       "   Cement  Blast Furnace Slag  Fly Ash  Water  Superplasticizer  \\\n",
       "0   540.0                 0.0      0.0  162.0               2.5   \n",
       "1   540.0                 0.0      0.0  162.0               2.5   \n",
       "2   332.5               142.5      0.0  228.0               0.0   \n",
       "3   332.5               142.5      0.0  228.0               0.0   \n",
       "4   198.6               132.4      0.0  192.0               0.0   \n",
       "\n",
       "   Coarse Aggregate  Fine Aggregate  Age  Strength  \n",
       "0            1040.0           676.0   28     79.99  \n",
       "1            1055.0           676.0   28     61.89  \n",
       "2             932.0           594.0  270     40.27  \n",
       "3             932.0           594.0  365     41.05  \n",
       "4             978.4           825.5  360     44.30  "
      ]
     },
     "execution_count": 6,
     "metadata": {},
     "output_type": "execute_result"
    }
   ],
   "source": [
    "# downloading the data and reading it into a pandas dataframe\n",
    "filepath='https://s3-api.us-geo.objectstorage.softlayer.net/cf-courses-data/CognitiveClass/DL0101EN/labs/data/concrete_data.csv'\n",
    "concrete_data = pd.read_csv(filepath)\n",
    "\n",
    "concrete_data.head()"
   ]
  },
  {
   "cell_type": "code",
   "execution_count": 7,
   "id": "bf8c987b-def7-437b-a159-a22f03a34a7b",
   "metadata": {},
   "outputs": [
    {
     "data": {
      "text/plain": [
       "(1030, 9)"
      ]
     },
     "execution_count": 7,
     "metadata": {},
     "output_type": "execute_result"
    }
   ],
   "source": [
    "# checking the datapoints\n",
    "concrete_data.shape"
   ]
  },
  {
   "cell_type": "code",
   "execution_count": 8,
   "id": "1ea8e33b-9ff9-41c6-bc27-b9e798629653",
   "metadata": {},
   "outputs": [
    {
     "data": {
      "text/html": [
       "<div>\n",
       "<style scoped>\n",
       "    .dataframe tbody tr th:only-of-type {\n",
       "        vertical-align: middle;\n",
       "    }\n",
       "\n",
       "    .dataframe tbody tr th {\n",
       "        vertical-align: top;\n",
       "    }\n",
       "\n",
       "    .dataframe thead th {\n",
       "        text-align: right;\n",
       "    }\n",
       "</style>\n",
       "<table border=\"1\" class=\"dataframe\">\n",
       "  <thead>\n",
       "    <tr style=\"text-align: right;\">\n",
       "      <th></th>\n",
       "      <th>Cement</th>\n",
       "      <th>Blast Furnace Slag</th>\n",
       "      <th>Fly Ash</th>\n",
       "      <th>Water</th>\n",
       "      <th>Superplasticizer</th>\n",
       "      <th>Coarse Aggregate</th>\n",
       "      <th>Fine Aggregate</th>\n",
       "      <th>Age</th>\n",
       "      <th>Strength</th>\n",
       "    </tr>\n",
       "  </thead>\n",
       "  <tbody>\n",
       "    <tr>\n",
       "      <th>count</th>\n",
       "      <td>1030.000000</td>\n",
       "      <td>1030.000000</td>\n",
       "      <td>1030.000000</td>\n",
       "      <td>1030.000000</td>\n",
       "      <td>1030.000000</td>\n",
       "      <td>1030.000000</td>\n",
       "      <td>1030.000000</td>\n",
       "      <td>1030.000000</td>\n",
       "      <td>1030.000000</td>\n",
       "    </tr>\n",
       "    <tr>\n",
       "      <th>mean</th>\n",
       "      <td>281.167864</td>\n",
       "      <td>73.895825</td>\n",
       "      <td>54.188350</td>\n",
       "      <td>181.567282</td>\n",
       "      <td>6.204660</td>\n",
       "      <td>972.918932</td>\n",
       "      <td>773.580485</td>\n",
       "      <td>45.662136</td>\n",
       "      <td>35.817961</td>\n",
       "    </tr>\n",
       "    <tr>\n",
       "      <th>std</th>\n",
       "      <td>104.506364</td>\n",
       "      <td>86.279342</td>\n",
       "      <td>63.997004</td>\n",
       "      <td>21.354219</td>\n",
       "      <td>5.973841</td>\n",
       "      <td>77.753954</td>\n",
       "      <td>80.175980</td>\n",
       "      <td>63.169912</td>\n",
       "      <td>16.705742</td>\n",
       "    </tr>\n",
       "    <tr>\n",
       "      <th>min</th>\n",
       "      <td>102.000000</td>\n",
       "      <td>0.000000</td>\n",
       "      <td>0.000000</td>\n",
       "      <td>121.800000</td>\n",
       "      <td>0.000000</td>\n",
       "      <td>801.000000</td>\n",
       "      <td>594.000000</td>\n",
       "      <td>1.000000</td>\n",
       "      <td>2.330000</td>\n",
       "    </tr>\n",
       "    <tr>\n",
       "      <th>25%</th>\n",
       "      <td>192.375000</td>\n",
       "      <td>0.000000</td>\n",
       "      <td>0.000000</td>\n",
       "      <td>164.900000</td>\n",
       "      <td>0.000000</td>\n",
       "      <td>932.000000</td>\n",
       "      <td>730.950000</td>\n",
       "      <td>7.000000</td>\n",
       "      <td>23.710000</td>\n",
       "    </tr>\n",
       "    <tr>\n",
       "      <th>50%</th>\n",
       "      <td>272.900000</td>\n",
       "      <td>22.000000</td>\n",
       "      <td>0.000000</td>\n",
       "      <td>185.000000</td>\n",
       "      <td>6.400000</td>\n",
       "      <td>968.000000</td>\n",
       "      <td>779.500000</td>\n",
       "      <td>28.000000</td>\n",
       "      <td>34.445000</td>\n",
       "    </tr>\n",
       "    <tr>\n",
       "      <th>75%</th>\n",
       "      <td>350.000000</td>\n",
       "      <td>142.950000</td>\n",
       "      <td>118.300000</td>\n",
       "      <td>192.000000</td>\n",
       "      <td>10.200000</td>\n",
       "      <td>1029.400000</td>\n",
       "      <td>824.000000</td>\n",
       "      <td>56.000000</td>\n",
       "      <td>46.135000</td>\n",
       "    </tr>\n",
       "    <tr>\n",
       "      <th>max</th>\n",
       "      <td>540.000000</td>\n",
       "      <td>359.400000</td>\n",
       "      <td>200.100000</td>\n",
       "      <td>247.000000</td>\n",
       "      <td>32.200000</td>\n",
       "      <td>1145.000000</td>\n",
       "      <td>992.600000</td>\n",
       "      <td>365.000000</td>\n",
       "      <td>82.600000</td>\n",
       "    </tr>\n",
       "  </tbody>\n",
       "</table>\n",
       "</div>"
      ],
      "text/plain": [
       "            Cement  Blast Furnace Slag      Fly Ash        Water  \\\n",
       "count  1030.000000         1030.000000  1030.000000  1030.000000   \n",
       "mean    281.167864           73.895825    54.188350   181.567282   \n",
       "std     104.506364           86.279342    63.997004    21.354219   \n",
       "min     102.000000            0.000000     0.000000   121.800000   \n",
       "25%     192.375000            0.000000     0.000000   164.900000   \n",
       "50%     272.900000           22.000000     0.000000   185.000000   \n",
       "75%     350.000000          142.950000   118.300000   192.000000   \n",
       "max     540.000000          359.400000   200.100000   247.000000   \n",
       "\n",
       "       Superplasticizer  Coarse Aggregate  Fine Aggregate          Age  \\\n",
       "count       1030.000000       1030.000000     1030.000000  1030.000000   \n",
       "mean           6.204660        972.918932      773.580485    45.662136   \n",
       "std            5.973841         77.753954       80.175980    63.169912   \n",
       "min            0.000000        801.000000      594.000000     1.000000   \n",
       "25%            0.000000        932.000000      730.950000     7.000000   \n",
       "50%            6.400000        968.000000      779.500000    28.000000   \n",
       "75%           10.200000       1029.400000      824.000000    56.000000   \n",
       "max           32.200000       1145.000000      992.600000   365.000000   \n",
       "\n",
       "          Strength  \n",
       "count  1030.000000  \n",
       "mean     35.817961  \n",
       "std      16.705742  \n",
       "min       2.330000  \n",
       "25%      23.710000  \n",
       "50%      34.445000  \n",
       "75%      46.135000  \n",
       "max      82.600000  "
      ]
     },
     "execution_count": 8,
     "metadata": {},
     "output_type": "execute_result"
    }
   ],
   "source": [
    "concrete_data.describe()"
   ]
  },
  {
   "cell_type": "code",
   "execution_count": 9,
   "id": "2c98105d-c1e3-4a28-ac4d-a72dedede1db",
   "metadata": {},
   "outputs": [
    {
     "data": {
      "text/plain": [
       "Cement                0\n",
       "Blast Furnace Slag    0\n",
       "Fly Ash               0\n",
       "Water                 0\n",
       "Superplasticizer      0\n",
       "Coarse Aggregate      0\n",
       "Fine Aggregate        0\n",
       "Age                   0\n",
       "Strength              0\n",
       "dtype: int64"
      ]
     },
     "execution_count": 9,
     "metadata": {},
     "output_type": "execute_result"
    }
   ],
   "source": [
    "# checking the dataset for missing values\n",
    "concrete_data.isnull().sum()"
   ]
  },
  {
   "cell_type": "code",
   "execution_count": 10,
   "id": "bdb1249b-d760-4b8b-970f-6d29c699f70d",
   "metadata": {},
   "outputs": [],
   "source": [
    "# determining the Target value and the Predictors\n",
    "concrete_data_columns = concrete_data.columns\n",
    "predictors = concrete_data[concrete_data_columns[concrete_data_columns != 'Strength']] # all columns except Strength\n",
    "target = concrete_data['Strength'] # Strength column "
   ]
  },
  {
   "cell_type": "code",
   "execution_count": 11,
   "id": "6867b45d-3204-4f11-b5c1-d02b5a7efa6d",
   "metadata": {},
   "outputs": [],
   "source": [
    "n_cols = predictors.shape[1] # number of predictors"
   ]
  },
  {
   "cell_type": "code",
   "execution_count": null,
   "id": "7ba9a6c4-efd2-4736-bc48-2064592351e5",
   "metadata": {},
   "outputs": [],
   "source": []
  },
  {
   "cell_type": "code",
   "execution_count": null,
   "id": "c42b7178-5243-48d2-ae1e-fdaca1a93f59",
   "metadata": {},
   "outputs": [],
   "source": []
  },
  {
   "cell_type": "markdown",
   "id": "a928f0d7-5bc1-4762-8b1f-661f5921f3f0",
   "metadata": {},
   "source": [
    "### A. Build a baseline model (5 marks)"
   ]
  },
  {
   "cell_type": "code",
   "execution_count": 12,
   "id": "bc31a0e6-2680-4e7e-8b8e-fb9f58eda9c2",
   "metadata": {},
   "outputs": [],
   "source": [
    "# build the model\n",
    "model = Sequential()\n",
    "model.add(Input(shape=(n_cols,)))\n",
    "model.add(Dense(10, activation='relu'))\n",
    "model.add(Dense(1))\n",
    "    \n",
    "# compile model\n",
    "model.compile(optimizer='adam', loss='mean_squared_error')"
   ]
  },
  {
   "cell_type": "code",
   "execution_count": 13,
   "id": "e9900718-d80a-4003-9b8c-04c4fe62730c",
   "metadata": {},
   "outputs": [
    {
     "name": "stdout",
     "output_type": "stream",
     "text": [
      "Epoch 1/50\n",
      "23/23 - 1s - 39ms/step - loss: 307292.7500 - val_loss: 193619.9688\n",
      "Epoch 2/50\n",
      "23/23 - 0s - 7ms/step - loss: 130109.9609 - val_loss: 68739.0781\n",
      "Epoch 3/50\n",
      "23/23 - 0s - 7ms/step - loss: 41815.5352 - val_loss: 17962.3203\n",
      "Epoch 4/50\n",
      "23/23 - 0s - 7ms/step - loss: 10585.8818 - val_loss: 4287.9839\n",
      "Epoch 5/50\n",
      "23/23 - 0s - 7ms/step - loss: 3362.2168 - val_loss: 2334.8481\n",
      "Epoch 6/50\n",
      "23/23 - 0s - 7ms/step - loss: 2451.6543 - val_loss: 2178.8667\n",
      "Epoch 7/50\n",
      "23/23 - 0s - 6ms/step - loss: 2294.9958 - val_loss: 2073.2324\n",
      "Epoch 8/50\n",
      "23/23 - 0s - 7ms/step - loss: 2178.0535 - val_loss: 1958.0446\n",
      "Epoch 9/50\n",
      "23/23 - 0s - 7ms/step - loss: 2054.3513 - val_loss: 1845.6412\n",
      "Epoch 10/50\n",
      "23/23 - 0s - 7ms/step - loss: 1939.1676 - val_loss: 1740.2615\n",
      "Epoch 11/50\n",
      "23/23 - 0s - 7ms/step - loss: 1822.5449 - val_loss: 1626.7322\n",
      "Epoch 12/50\n",
      "23/23 - 0s - 8ms/step - loss: 1706.7900 - val_loss: 1524.7920\n",
      "Epoch 13/50\n",
      "23/23 - 0s - 7ms/step - loss: 1601.0796 - val_loss: 1427.1102\n",
      "Epoch 14/50\n",
      "23/23 - 0s - 7ms/step - loss: 1486.3436 - val_loss: 1325.5381\n",
      "Epoch 15/50\n",
      "23/23 - 0s - 6ms/step - loss: 1387.1770 - val_loss: 1233.7238\n",
      "Epoch 16/50\n",
      "23/23 - 0s - 7ms/step - loss: 1290.4287 - val_loss: 1148.7952\n",
      "Epoch 17/50\n",
      "23/23 - 0s - 7ms/step - loss: 1198.7587 - val_loss: 1060.5402\n",
      "Epoch 18/50\n",
      "23/23 - 0s - 7ms/step - loss: 1112.6854 - val_loss: 984.2661\n",
      "Epoch 19/50\n",
      "23/23 - 0s - 8ms/step - loss: 1031.3967 - val_loss: 916.0145\n",
      "Epoch 20/50\n",
      "23/23 - 0s - 8ms/step - loss: 953.5810 - val_loss: 839.7914\n",
      "Epoch 21/50\n",
      "23/23 - 0s - 7ms/step - loss: 882.7596 - val_loss: 781.0638\n",
      "Epoch 22/50\n",
      "23/23 - 0s - 6ms/step - loss: 815.8502 - val_loss: 725.2153\n",
      "Epoch 23/50\n",
      "23/23 - 0s - 6ms/step - loss: 754.2778 - val_loss: 667.2999\n",
      "Epoch 24/50\n",
      "23/23 - 0s - 7ms/step - loss: 697.0789 - val_loss: 621.5249\n",
      "Epoch 25/50\n",
      "23/23 - 0s - 9ms/step - loss: 644.1464 - val_loss: 571.8021\n",
      "Epoch 26/50\n",
      "23/23 - 0s - 7ms/step - loss: 596.2390 - val_loss: 530.4803\n",
      "Epoch 27/50\n",
      "23/23 - 0s - 7ms/step - loss: 551.6992 - val_loss: 494.5943\n",
      "Epoch 28/50\n",
      "23/23 - 0s - 7ms/step - loss: 512.1224 - val_loss: 458.6143\n",
      "Epoch 29/50\n",
      "23/23 - 0s - 7ms/step - loss: 477.1912 - val_loss: 427.2734\n",
      "Epoch 30/50\n",
      "23/23 - 0s - 7ms/step - loss: 441.3981 - val_loss: 397.4299\n",
      "Epoch 31/50\n",
      "23/23 - 0s - 7ms/step - loss: 412.3315 - val_loss: 371.2086\n",
      "Epoch 32/50\n",
      "23/23 - 0s - 6ms/step - loss: 383.9069 - val_loss: 349.6726\n",
      "Epoch 33/50\n",
      "23/23 - 0s - 6ms/step - loss: 358.7003 - val_loss: 326.7219\n",
      "Epoch 34/50\n",
      "23/23 - 0s - 6ms/step - loss: 336.4178 - val_loss: 306.6387\n",
      "Epoch 35/50\n",
      "23/23 - 0s - 7ms/step - loss: 318.1967 - val_loss: 290.7195\n",
      "Epoch 36/50\n",
      "23/23 - 0s - 7ms/step - loss: 298.9227 - val_loss: 274.1545\n",
      "Epoch 37/50\n",
      "23/23 - 0s - 6ms/step - loss: 281.7102 - val_loss: 260.3327\n",
      "Epoch 38/50\n",
      "23/23 - 0s - 6ms/step - loss: 267.6955 - val_loss: 247.3192\n",
      "Epoch 39/50\n",
      "23/23 - 0s - 6ms/step - loss: 253.8186 - val_loss: 235.2384\n",
      "Epoch 40/50\n",
      "23/23 - 0s - 7ms/step - loss: 241.9349 - val_loss: 227.4899\n",
      "Epoch 41/50\n",
      "23/23 - 0s - 7ms/step - loss: 231.7842 - val_loss: 216.6866\n",
      "Epoch 42/50\n",
      "23/23 - 0s - 7ms/step - loss: 221.6796 - val_loss: 210.6330\n",
      "Epoch 43/50\n",
      "23/23 - 0s - 7ms/step - loss: 213.3647 - val_loss: 202.3654\n",
      "Epoch 44/50\n",
      "23/23 - 0s - 8ms/step - loss: 205.7593 - val_loss: 196.0201\n",
      "Epoch 45/50\n",
      "23/23 - 0s - 7ms/step - loss: 198.9499 - val_loss: 190.5094\n",
      "Epoch 46/50\n",
      "23/23 - 0s - 6ms/step - loss: 193.3179 - val_loss: 185.2628\n",
      "Epoch 47/50\n",
      "23/23 - 0s - 7ms/step - loss: 187.3390 - val_loss: 180.4707\n",
      "Epoch 48/50\n",
      "23/23 - 0s - 6ms/step - loss: 182.8730 - val_loss: 176.4347\n",
      "Epoch 49/50\n",
      "23/23 - 0s - 6ms/step - loss: 178.3830 - val_loss: 173.5888\n",
      "Epoch 50/50\n",
      "23/23 - 0s - 7ms/step - loss: 175.0848 - val_loss: 169.4615\n",
      "Test MSE: 169.46153259277344\n"
     ]
    }
   ],
   "source": [
    "# Split the data into training and testing sets\n",
    "X_train, X_test, y_train, y_test = train_test_split(predictors, target, test_size=0.3)\n",
    "\n",
    "# Fit the model on the training set\n",
    "model.fit(X_train, y_train, epochs=50, verbose=2, validation_data=(X_test, y_test))\n",
    "\n",
    "# Evaluate the model on the test set\n",
    "scores = model.evaluate(X_test, y_test, verbose=0)\n",
    "print(f\"Test MSE: {scores}\")"
   ]
  },
  {
   "cell_type": "code",
   "execution_count": 14,
   "id": "da9504fa-c36b-4cff-9276-df804930ab01",
   "metadata": {},
   "outputs": [
    {
     "name": "stdout",
     "output_type": "stream",
     "text": [
      "[130.65679931640625, 138.5398406982422, 207.05906677246094, 219.1390838623047, 285.91473388671875, 159.41238403320312, 886.4105834960938, 229.835205078125, 491.84765625, 191.7173309326172, 252.7727508544922, 203.46250915527344, 102.70931243896484, 428.5995178222656, 696.4683227539062, 3801.263671875, 164.53594970703125, 106.50724029541016, 135.59275817871094, 626.0946044921875, 490.9021911621094, 164.35317993164062, 557.3017578125, 547.7660522460938, 131.7386474609375, 119.30635833740234, 148.8003692626953, 104.16708374023438, 183.81106567382812, 959.5215454101562, 1487.7200927734375, 643.3153076171875, 315.6893310546875, 955.5386352539062, 110.46719360351562, 238.5421905517578, 266.7850646972656, 110.13731384277344, 235.8600616455078, 100.36368560791016, 258.3077697753906, 148.27830505371094, 109.22413635253906, 124.1800765991211, 124.38301849365234, 621.4974365234375, 1319.581787109375, 72.4268798828125, 206.53050231933594, 2918.555419921875]\n"
     ]
    }
   ],
   "source": [
    "mse_list = []\n",
    "# Repeating 50 times\n",
    "for i in range(50):\n",
    "    # create model\n",
    "    model = Sequential()\n",
    "    model.add(Input(shape=(n_cols,)))\n",
    "    model.add(Dense(10, activation='relu'))\n",
    "    model.add(Dense(1))\n",
    "    \n",
    "    # compile model\n",
    "    model.compile(optimizer='adam', loss='mean_squared_error')\n",
    "    \n",
    "    # Split the data into training and testing sets\n",
    "    X_train, X_test, y_train, y_test = train_test_split(predictors, target, test_size=0.3)\n",
    "    \n",
    "    # Fit the model on the training set\n",
    "    model.fit(X_train, y_train, epochs=50, verbose=0, validation_data=(X_test, y_test))\n",
    "    \n",
    "    # Evaluate the model on the test set\n",
    "    scores = model.evaluate(X_test, y_test, verbose=0)\n",
    "    mse_list.append(scores)\n",
    "    # print(f\"Test MSE: {scores}\")\n",
    "print(mse_list)"
   ]
  },
  {
   "cell_type": "code",
   "execution_count": 15,
   "id": "0e62d569-3d91-4fb0-9a6e-5161ad142599",
   "metadata": {
    "scrolled": true
   },
   "outputs": [
    {
     "name": "stdout",
     "output_type": "stream",
     "text": [
      "Mean of MSE: 464.67183563232425\n",
      "Standard Deviation of MSE: 675.5615809080878\n"
     ]
    }
   ],
   "source": [
    "mean_mse = np.mean(mse_list)\n",
    "std_mse = np.std(mse_list)\n",
    "\n",
    "print(f\"Mean of MSE: {mean_mse}\")\n",
    "print(f\"Standard Deviation of MSE: {std_mse}\")"
   ]
  },
  {
   "cell_type": "markdown",
   "id": "3b0e0cf5-4e83-4491-ab2e-1c91b513491d",
   "metadata": {},
   "source": [
    "### B. Normalize the data (5 marks) "
   ]
  },
  {
   "cell_type": "markdown",
   "id": "0d09e820-8dfd-4c6d-9bab-d10fbaa323e8",
   "metadata": {},
   "source": [
    "Repeat Part A but use a normalized version of the data. Recall that one way to normalize the data is by subtracting the mean from the individual predictors and dividing by the standard deviation.\n",
    "\n",
    "How does the mean of the mean squared errors compare to that from Step A?"
   ]
  },
  {
   "cell_type": "code",
   "execution_count": 16,
   "id": "23a3ce22-8b0b-4608-be7c-89ea36485255",
   "metadata": {
    "scrolled": true
   },
   "outputs": [
    {
     "name": "stdout",
     "output_type": "stream",
     "text": [
      "[333.9483337402344, 304.8155212402344, 364.7829284667969, 385.508056640625, 227.40524291992188, 300.09808349609375, 246.9304656982422, 266.1448974609375, 309.3398132324219, 246.74688720703125, 313.2528076171875, 578.7247314453125, 296.7659912109375, 630.4105834960938, 270.8459777832031, 308.9761962890625, 383.39849853515625, 292.3851623535156, 276.93389892578125, 716.367919921875, 215.7757568359375, 479.6083068847656, 414.9291076660156, 476.7118225097656, 659.6154174804688, 549.1265258789062, 416.75286865234375, 350.7306823730469, 321.0101623535156, 364.29901123046875, 319.41839599609375, 407.6153259277344, 246.54336547851562, 299.908203125, 351.4074401855469, 269.7409973144531, 355.7110900878906, 569.7362060546875, 320.1104431152344, 382.51287841796875, 387.94818115234375, 338.37701416015625, 505.34765625, 252.48379516601562, 395.77813720703125, 439.5643310546875, 313.4869689941406, 296.92364501953125, 451.7124328613281, 284.78631591796875]\n"
     ]
    }
   ],
   "source": [
    "mse_norm_list = []\n",
    "# Repeating 50 times\n",
    "for i in range(50):\n",
    "    # create model\n",
    "    model_norm = Sequential()\n",
    "    model_norm.add(Input(shape=(n_cols,)))\n",
    "    model_norm.add(Dense(10, activation='relu'))\n",
    "    model_norm.add(Dense(1))\n",
    "    \n",
    "    # compile model\n",
    "    model_norm.compile(optimizer='adam', loss='mean_squared_error')\n",
    "\n",
    "    # Split the data into training and testing sets\n",
    "    X_train, X_test, y_train, y_test = train_test_split(predictors, target, test_size=0.3)\n",
    "\n",
    "    # Normalize training and testing data separately\n",
    "    X_train_norm = (X_train - X_train.mean()) / X_train.std()\n",
    "    X_test_norm = (X_test - X_train.mean()) / X_train.std()\n",
    "    \n",
    "    # Fit the model on the training set\n",
    "    model_norm.fit(X_train_norm, y_train, epochs=50, verbose=0, validation_data=(X_test_norm, y_test))\n",
    "    \n",
    "    # Evaluate the model on the test set\n",
    "    scores = model_norm.evaluate(X_test_norm, y_test, verbose=0)\n",
    "    mse_norm_list.append(scores)\n",
    "print(mse_norm_list)"
   ]
  },
  {
   "cell_type": "code",
   "execution_count": 17,
   "id": "100a1c46-b325-4b43-bc89-238f05ab41b6",
   "metadata": {},
   "outputs": [
    {
     "name": "stdout",
     "output_type": "stream",
     "text": [
      "Mean of MSE: 369.8290896606445\n",
      "Standard Deviation of MSE: 114.2844342592181\n"
     ]
    }
   ],
   "source": [
    "mean_norm_mse = np.mean(mse_norm_list)\n",
    "std_norm_mse = np.std(mse_norm_list)\n",
    "\n",
    "print(f\"Mean of MSE: {mean_norm_mse}\")\n",
    "print(f\"Standard Deviation of MSE: {std_norm_mse}\")"
   ]
  },
  {
   "cell_type": "code",
   "execution_count": null,
   "id": "17c5bf71-155c-4600-8119-cfba01a1754a",
   "metadata": {},
   "outputs": [],
   "source": []
  },
  {
   "cell_type": "markdown",
   "id": "6c3ccf30-4fd3-499e-9cac-fad6771d8bab",
   "metadata": {},
   "source": [
    "### C. Increate the number of epochs (5 marks)"
   ]
  },
  {
   "cell_type": "markdown",
   "id": "1830500b-92e4-4a47-aef2-0728f2228863",
   "metadata": {},
   "source": [
    "Repeat Part B but use 100 epochs this time for training.\n",
    "\n",
    "How does the mean of the mean squared errors compare to that from Step B?"
   ]
  },
  {
   "cell_type": "code",
   "execution_count": 18,
   "id": "0a8fe5d4-cdd5-4c7b-97dc-4a237b6645ef",
   "metadata": {},
   "outputs": [
    {
     "name": "stdout",
     "output_type": "stream",
     "text": [
      "[156.1385040283203, 164.7069549560547, 176.70724487304688, 133.72645568847656, 147.69601440429688, 170.28076171875, 176.87664794921875, 171.5531768798828, 153.16317749023438, 163.2613983154297, 140.31385803222656, 162.4966278076172, 183.04806518554688, 151.1429443359375, 157.4398193359375, 189.00831604003906, 162.40087890625, 157.84075927734375, 165.5461883544922, 149.396240234375, 167.88601684570312, 132.132568359375, 150.9661407470703, 198.76885986328125, 151.71279907226562, 184.36183166503906, 168.2377166748047, 160.4114227294922, 215.6911163330078, 167.7256317138672, 130.63336181640625, 139.48402404785156, 162.65586853027344, 154.00059509277344, 149.2683868408203, 149.96897888183594, 176.3242645263672, 180.8219757080078, 163.90658569335938, 187.10147094726562, 151.58071899414062, 208.00746154785156, 172.97018432617188, 157.9769744873047, 179.93804931640625, 183.52386474609375, 155.01034545898438, 145.6710662841797, 171.1710205078125, 151.72653198242188]\n"
     ]
    }
   ],
   "source": [
    "mse_norm_100e_list = []\n",
    "# Repeating 50 times\n",
    "for i in range(50):\n",
    "    # create model\n",
    "    model_norm_100e = Sequential()\n",
    "    model_norm_100e.add(Input(shape=(n_cols,)))\n",
    "    model_norm_100e.add(Dense(10, activation='relu'))\n",
    "    model_norm_100e.add(Dense(1))\n",
    "    \n",
    "    # compile model\n",
    "    model_norm_100e.compile(optimizer='adam', loss='mean_squared_error')\n",
    "\n",
    "    # Split the data into training and testing sets\n",
    "    X_train, X_test, y_train, y_test = train_test_split(predictors, target, test_size=0.3)\n",
    "\n",
    "    # Normalize training and testing data separately\n",
    "    X_train_norm = (X_train - X_train.mean()) / X_train.std()\n",
    "    X_test_norm = (X_test - X_train.mean()) / X_train.std()\n",
    "    \n",
    "    # Fit the model on the training set\n",
    "    model_norm_100e.fit(X_train_norm, y_train, epochs=100, verbose=0, validation_data=(X_test_norm, y_test))\n",
    "    \n",
    "    # Evaluate the model on the test set\n",
    "    scores = model_norm_100e.evaluate(X_test_norm, y_test, verbose=0)\n",
    "    mse_norm_100e_list.append(scores)\n",
    "print(mse_norm_100e_list)"
   ]
  },
  {
   "cell_type": "code",
   "execution_count": 19,
   "id": "b1689780-969b-47f5-a337-516d67efe06c",
   "metadata": {},
   "outputs": [
    {
     "name": "stdout",
     "output_type": "stream",
     "text": [
      "Mean of MSE: 164.04759735107422\n",
      "Standard Deviation of MSE: 17.974546636142605\n"
     ]
    }
   ],
   "source": [
    "mean_norm_100e_mse = np.mean(mse_norm_100e_list)\n",
    "std_norm_100e_mse = np.std(mse_norm_100e_list)\n",
    "\n",
    "print(f\"Mean of MSE: {mean_norm_100e_mse}\")\n",
    "print(f\"Standard Deviation of MSE: {std_norm_100e_mse}\")"
   ]
  },
  {
   "cell_type": "code",
   "execution_count": null,
   "id": "006602d6-4226-41a4-bb8a-f498a8d4eeea",
   "metadata": {},
   "outputs": [],
   "source": [
    "#### Mean squared error of the model with 100  is less then MSE from the step B with one hidden layer."
   ]
  },
  {
   "cell_type": "markdown",
   "id": "9adfcb61-5aec-4f77-b8d1-7c4b03f4588f",
   "metadata": {},
   "source": [
    "### D. Increase the number of hidden layers (5 marks)"
   ]
  },
  {
   "cell_type": "markdown",
   "id": "6563118c-065b-4cd7-9f19-23612ed32293",
   "metadata": {},
   "source": [
    "Repeat part B but use a neural network with the following instead:\n",
    "\n",
    "- Three hidden layers, each of 10 nodes and ReLU activation function.\n",
    "\n",
    "How does the mean of the mean squared errors compare to that from Step B?"
   ]
  },
  {
   "cell_type": "code",
   "execution_count": 20,
   "id": "f1ede8e4-cd05-492e-a973-6980467a6b14",
   "metadata": {},
   "outputs": [
    {
     "name": "stdout",
     "output_type": "stream",
     "text": [
      "[126.63150024414062, 126.13489532470703, 149.87530517578125, 145.55018615722656, 137.58413696289062, 89.46662902832031, 116.65292358398438, 152.7856903076172, 127.65215301513672, 127.66326904296875, 120.64924621582031, 99.9720230102539, 117.6295166015625, 116.74869537353516, 139.54693603515625, 134.11007690429688, 132.275390625, 89.97122955322266, 129.80406188964844, 137.25448608398438, 133.66983032226562, 128.38768005371094, 130.19578552246094, 130.7772216796875, 138.6461944580078, 122.7993392944336, 130.39598083496094, 134.1273193359375, 117.94083404541016, 142.01345825195312, 134.81349182128906, 113.82906341552734, 94.77664184570312, 145.4977264404297, 126.56321716308594, 142.3083038330078, 132.64036560058594, 125.47379302978516, 142.9370880126953, 148.45750427246094, 124.95675659179688, 107.79002380371094, 120.76148223876953, 116.68803405761719, 140.64088439941406, 115.30001068115234, 124.68030548095703, 157.2786407470703, 102.38534545898438, 144.8242645263672]\n"
     ]
    }
   ],
   "source": [
    "mse_norm_3l_list = []\n",
    "# Repeating 50 times\n",
    "for i in range(50):\n",
    "    # create model\n",
    "    model_norm_3l = Sequential()\n",
    "    model_norm_3l.add(Input(shape=(n_cols,)))\n",
    "    model_norm_3l.add(Dense(10, activation='relu'))\n",
    "    model_norm_3l.add(Dense(10, activation='relu'))\n",
    "    model_norm_3l.add(Dense(10, activation='relu'))\n",
    "    model_norm_3l.add(Dense(1))\n",
    "    \n",
    "    # compile model\n",
    "    model_norm_3l.compile(optimizer='adam', loss='mean_squared_error')\n",
    "    \n",
    "    # Split the data into training and testing sets\n",
    "    X_train, X_test, y_train, y_test = train_test_split(predictors, target, test_size=0.3)\n",
    "\n",
    "    # Normalize training and testing data separately\n",
    "    X_train_norm = (X_train - X_train.mean()) / X_train.std()\n",
    "    X_test_norm = (X_test - X_train.mean()) / X_train.std()\n",
    "    \n",
    "    # Fit the model on the training set\n",
    "    model_norm_3l.fit(X_train_norm, y_train, epochs=50, verbose=0, validation_data=(X_test_norm, y_test))\n",
    "    \n",
    "    # Evaluate the model on the test set\n",
    "    scores = model_norm_3l.evaluate(X_test_norm, y_test, verbose=0)\n",
    "    mse_norm_3l_list.append(scores)\n",
    "print(mse_norm_3l_list)"
   ]
  },
  {
   "cell_type": "code",
   "execution_count": 21,
   "id": "9a49d0b4-7b19-4c45-8273-f2bbb04016b4",
   "metadata": {},
   "outputs": [
    {
     "name": "stdout",
     "output_type": "stream",
     "text": [
      "Mean of MSE: 127.79029876708984\n",
      "Standard Deviation of MSE: 15.29289377261133\n"
     ]
    }
   ],
   "source": [
    "mean_norm_3l_mse = np.mean(mse_norm_3l_list)\n",
    "std_norm_3l_mse = np.std(mse_norm_3l_list)\n",
    "\n",
    "print(f\"Mean of MSE: {mean_norm_3l_mse}\")\n",
    "print(f\"Standard Deviation of MSE: {std_norm_3l_mse}\")"
   ]
  },
  {
   "cell_type": "markdown",
   "id": "49f9587c-6964-4375-9aea-9bf1e170c62b",
   "metadata": {},
   "source": [
    "#### Mean squared error of the model with 3 hidden layers is less then MSE from the step B with one hidden layer."
   ]
  }
 ],
 "metadata": {
  "kernelspec": {
   "display_name": "Python 3 (ipykernel)",
   "language": "python",
   "name": "python3"
  },
  "language_info": {
   "codemirror_mode": {
    "name": "ipython",
    "version": 3
   },
   "file_extension": ".py",
   "mimetype": "text/x-python",
   "name": "python",
   "nbconvert_exporter": "python",
   "pygments_lexer": "ipython3",
   "version": "3.11.9"
  }
 },
 "nbformat": 4,
 "nbformat_minor": 5
}
